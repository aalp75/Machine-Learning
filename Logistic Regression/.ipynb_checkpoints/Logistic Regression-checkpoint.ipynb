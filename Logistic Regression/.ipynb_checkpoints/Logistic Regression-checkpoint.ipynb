{
 "cells": [
  {
   "cell_type": "code",
   "execution_count": 32,
   "id": "dc842098",
   "metadata": {},
   "outputs": [],
   "source": [
    "import sklearn\n",
    "import numpy as np\n",
    "import copy\n",
    "import time\n",
    "import math"
   ]
  },
  {
   "cell_type": "code",
   "execution_count": 33,
   "id": "8c3e49b8",
   "metadata": {},
   "outputs": [],
   "source": [
    "from sklearn.datasets import load_iris\n",
    "iris = sklearn.datasets.load_iris()\n",
    "X = iris.data[:100]\n",
    "Y = iris.target[:100]"
   ]
  },
  {
   "cell_type": "code",
   "execution_count": 34,
   "id": "0f85e2d2",
   "metadata": {},
   "outputs": [],
   "source": [
    "class LogisticRegression():\n",
    "    \n",
    "    def __init__(self,p):\n",
    "        '''\n",
    "        p: number of features\n",
    "        '''\n",
    "        self.intercept = 0\n",
    "        self.p = p\n",
    "        self.w = [0,0,0,0]\n",
    "        self.learning_rate = 0.001\n",
    "        \n",
    "        self.max_iter = 2000\n",
    "        self.stopping_criterion = pow(10,-5)\n",
    "    \n",
    "    def dot(self,x):\n",
    "        ans = self.intercept\n",
    "        for i in range(self.p):\n",
    "            ans += x[i] * self.w[i]\n",
    "        return ans\n",
    "    \n",
    "    def sigma(self,x):\n",
    "        return  math.exp(self.dot(x))/(1+math.exp(self.dot(x)))\n",
    "\n",
    "    def C(self,x,y):\n",
    "        return math.log(1+math.exp(self.dot(x))) - y * self.dot(x)\n",
    "    \n",
    "    def Loss_function(self,X,Y):\n",
    "        n = len(X)\n",
    "        loss = 0\n",
    "        for i in range(n):\n",
    "            loss+= self.C(X[i],Y[i])\n",
    "        return loss/n\n",
    "\n",
    "    def gradient(self,X,Y):\n",
    "        n = len(X) #nb of observations\n",
    "        g = [0 for i in range(self.p+1)]\n",
    "        for i in range(n):\n",
    "            g[0] += math.exp(self.dot(X[i]))/(1+math.exp(self.dot(X[i]))) - Y[i]\n",
    "        g[0] /= n\n",
    "        for j in range(self.p): #nb of features\n",
    "            for i in range(n): #loop on all observations\n",
    "                g[1+j] += X[i,j] * (math.exp(self.dot(X[i]))/(1+math.exp(self.dot(X[i]))) - Y[i])\n",
    "            g[j] /= n\n",
    "        return g\n",
    "\n",
    "    def descent(self,X,Y):\n",
    "        g = self.gradient(X,Y)\n",
    "        self.intercept = self.intercept - self.learning_rate * g[0]\n",
    "        for j in range(self.p):\n",
    "            self.w[j] = self.w[j] - self.learning_rate * g[j+1]\n",
    "\n",
    "    def learn(self,X, Y):\n",
    "        start_time = time.time()\n",
    "        for i in range(self.max_iter):\n",
    "            self.descent(X,Y)\n",
    "            #print(self.Loss_function(X,Y))\n",
    "        print(\"Best coefficients are\", self.intercept, self.w,\"\\nwith Lose\",self.Loss_function(X,Y))\n",
    "        print(\"We needed %.2f seconds to fit the model\" %(time.time() - start_time ))\n",
    "\n",
    "    def score(self,X,Y):\n",
    "        sum = 0\n",
    "        n = len(X)\n",
    "        for i in range(n):\n",
    "            yp = round(self.sigma(X[i]))\n",
    "            if (yp == Y[i]):\n",
    "                sum +=1\n",
    "        print(\"Score is\", sum/n*100, \"%\")"
   ]
  },
  {
   "cell_type": "code",
   "execution_count": 35,
   "id": "57ab3bde",
   "metadata": {},
   "outputs": [
    {
     "name": "stdout",
     "output_type": "stream",
     "text": [
      "Best coefficients are -0.0011322794604707762 [-0.48938185248622096, -0.45009497349481514, 0.06923831933948571, 5.589625416699037] \n",
      "with Lose 0.06635242170403859\n",
      "We needed 5.40 seconds to fit the model\n",
      "Score is 100.0 %\n"
     ]
    }
   ],
   "source": [
    "model = LogisticRegression(4)\n",
    "\n",
    "model.learn(X,Y)\n",
    "model.score(X,Y)"
   ]
  },
  {
   "cell_type": "code",
   "execution_count": null,
   "id": "1b1434b8",
   "metadata": {},
   "outputs": [],
   "source": []
  }
 ],
 "metadata": {
  "kernelspec": {
   "display_name": "Python 3 (ipykernel)",
   "language": "python",
   "name": "python3"
  },
  "language_info": {
   "codemirror_mode": {
    "name": "ipython",
    "version": 3
   },
   "file_extension": ".py",
   "mimetype": "text/x-python",
   "name": "python",
   "nbconvert_exporter": "python",
   "pygments_lexer": "ipython3",
   "version": "3.9.7"
  }
 },
 "nbformat": 4,
 "nbformat_minor": 5
}
