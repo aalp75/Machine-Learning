{
 "cells": [
  {
   "cell_type": "code",
   "execution_count": 363,
   "metadata": {},
   "outputs": [],
   "source": [
    "import sklearn\n",
    "import numpy as np\n",
    "import copy\n",
    "import time"
   ]
  },
  {
   "cell_type": "code",
   "execution_count": 511,
   "metadata": {},
   "outputs": [],
   "source": [
    "from sklearn.datasets import load_iris\n",
    "iris = sklearn.datasets.load_iris()\n",
    "X = iris.data\n",
    "Y = iris.target"
   ]
  },
  {
   "cell_type": "code",
   "execution_count": 514,
   "metadata": {},
   "outputs": [],
   "source": [
    "class LinearRegression():\n",
    "    \n",
    "    def __init__(self,p):\n",
    "        '''\n",
    "        p: number of features\n",
    "        '''\n",
    "        self.intercept = 0\n",
    "        self.p = p\n",
    "        self.w = [0,0,0,0]\n",
    "        self.learning_rate = 0.001\n",
    "        \n",
    "        self.max_iter = 2000\n",
    "        self.stopping_criterion = pow(10,-5)\n",
    "    \n",
    "    def dot(self,x):\n",
    "        ans = self.intercept\n",
    "        for i in range(self.p):\n",
    "            ans += x[i] * self.w[i]\n",
    "        return ans\n",
    "\n",
    "    def C(self,x,y):\n",
    "        y_predict = self.dot(x)\n",
    "        return (y - y_predict)**2\n",
    "\n",
    "    def Loss_function(self,X,Y):\n",
    "        n = len(X)\n",
    "        loss = 0\n",
    "        for i in range(n):\n",
    "            loss+= self.C(X[i],Y[i])\n",
    "        return loss/n\n",
    "\n",
    "    def gradient(self,X,Y):\n",
    "        n = len(X) #nb of observations\n",
    "        g = [0 for i in range(self.p+1)]\n",
    "        for i in range(n):\n",
    "            g[0] += - 2*(Y[i] - self.dot(X[i]))\n",
    "        g[0] /= n\n",
    "        for j in range(self.p): #nb of features\n",
    "            for i in range(n): #loop on all observations\n",
    "                g[1+j] += - 2*X [i,j] * (Y[i] - self.dot(X[i]))\n",
    "            g[j] /= n\n",
    "        return g\n",
    "\n",
    "    def descent(self,X,Y):\n",
    "        g = self.gradient(X,Y)\n",
    "        self.intercept = self.intercept - self.learning_rate * g[0]\n",
    "        for j in range(self.p):\n",
    "            self.w[j] = self.w[j] - self.learning_rate * g[j+1]\n",
    "\n",
    "    def learn(self,X, Y):\n",
    "        start_time = time.time()\n",
    "        for i in range(self.max_iter):\n",
    "            self.descent(X,Y)\n",
    "            #print(self.Loss_function(X,Y))\n",
    "        print(\"Best coefficients are\", self.intercept, self.w,\"\\nwith Lose\",self.Loss_function(X,Y))\n",
    "        print(\"We needed %.2f seconds to fit the model\" %(time.time() - start_time ))\n",
    "\n",
    "    def score(self,X,Y):\n",
    "        sum = 0\n",
    "        n = len(X)\n",
    "        for i in range(n):\n",
    "            yp = round(self.dot(X[i]))\n",
    "            if (yp == Y[i]):\n",
    "                sum +=1\n",
    "        print(\"Score is\", sum/n*100, \"%\")"
   ]
  },
  {
   "cell_type": "code",
   "execution_count": 515,
   "metadata": {},
   "outputs": [
    {
     "name": "stdout",
     "output_type": "stream",
     "text": [
      "Best coefficients are -4.363618612074131e-05 [-0.02210447103143099, -0.07414442081151998, 0.10619798928092615, 0.7972012803035696] \n",
      "with Lose 0.04822567014967593\n",
      "We needed 5.99 seconds to fit the model\n",
      "Score is 96.66666666666667 %\n"
     ]
    }
   ],
   "source": [
    "model = LinearRegression(4)\n",
    "\n",
    "model.learn(X,Y)\n",
    "model.score(X,Y)"
   ]
  },
  {
   "cell_type": "code",
   "execution_count": null,
   "metadata": {},
   "outputs": [],
   "source": []
  }
 ],
 "metadata": {
  "kernelspec": {
   "display_name": "Python 3 (ipykernel)",
   "language": "python",
   "name": "python3"
  },
  "language_info": {
   "codemirror_mode": {
    "name": "ipython",
    "version": 3
   },
   "file_extension": ".py",
   "mimetype": "text/x-python",
   "name": "python",
   "nbconvert_exporter": "python",
   "pygments_lexer": "ipython3",
   "version": "3.9.7"
  }
 },
 "nbformat": 4,
 "nbformat_minor": 2
}
